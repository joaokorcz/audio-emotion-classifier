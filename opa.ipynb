{
 "cells": [
  {
   "cell_type": "code",
   "execution_count": 1,
   "metadata": {},
   "outputs": [],
   "source": [
    "import os\n",
    "import librosa\n",
    "import numpy as np\n",
    "from sklearn.model_selection import train_test_split\n",
    "from sklearn.preprocessing import StandardScaler\n",
    "from sklearn.metrics import accuracy_score, classification_report\n",
    "from sklearn.svm import SVC\n",
    "from sklearn.ensemble import RandomForestClassifier\n",
    "from sklearn.neighbors import KNeighborsClassifier\n",
    "from sklearn.neural_network import MLPClassifier"
   ]
  },
  {
   "cell_type": "code",
   "execution_count": 2,
   "metadata": {},
   "outputs": [],
   "source": [
    "def extract_features(audio_path):\n",
    "    y, sr = librosa.load(audio_path, sr=None)\n",
    "    stft = np.abs(librosa.stft(y))\n",
    "\n",
    "    mfccs = np.mean(librosa.feature.mfcc(y=y, sr=sr, n_mfcc=40), axis=1)\n",
    "    chroma = np.mean(librosa.feature.chroma_stft(S=stft, sr=sr).T,axis=0)\n",
    "    mel = np.mean(librosa.feature.melspectrogram(y=y, sr=sr).T,axis=0)\n",
    "    #contrast = np.mean(librosa.feature.spectral_contrast(S=stft, sr=sr,fmin=0.5*sr* 2**(-6)).T,axis=0)\n",
    "    #tonnetz = np.mean(librosa.feature.tonnetz(y=librosa.effects.harmonic(y),sr=sr*2).T,axis=0)\n",
    "    features = np.hstack([mfccs, chroma, mel])\n",
    "\n",
    "    return features"
   ]
  },
  {
   "cell_type": "code",
   "execution_count": 3,
   "metadata": {},
   "outputs": [],
   "source": [
    "def load_data(root_directory):\n",
    "    features, labels = [], []\n",
    "\n",
    "    #emotions = ['anger', 'disgust', 'fear', 'happy', 'neutral', 'sad']\n",
    "    emotions = ['sad', 'happy']\n",
    "\n",
    "    for emotion in emotions:\n",
    "        qt = 0\n",
    "        emotion_dir = os.path.join(root_directory, emotion)\n",
    "        for filename in os.listdir(emotion_dir):\n",
    "            qt += 1\n",
    "            print(emotion, qt)\n",
    "            if filename.endswith(\".wav\"):\n",
    "                audio_path = os.path.join(emotion_dir, filename)\n",
    "                feature = extract_features(audio_path)\n",
    "                features.append(feature)\n",
    "                labels.append(emotion)\n",
    "\n",
    "    return np.array(features), np.array(labels)"
   ]
  },
  {
   "cell_type": "code",
   "execution_count": 4,
   "metadata": {},
   "outputs": [
    {
     "name": "stdout",
     "output_type": "stream",
     "text": [
      "sad 1\n"
     ]
    },
    {
     "ename": "NameError",
     "evalue": "name 'tonnetz' is not defined",
     "output_type": "error",
     "traceback": [
      "\u001b[0;31m---------------------------------------------------------------------------\u001b[0m",
      "\u001b[0;31mNameError\u001b[0m                                 Traceback (most recent call last)",
      "\u001b[1;32m/home/jomk/Documents/Joao/IA/audio-emotion-classifier/opa.ipynb Cell 4\u001b[0m line \u001b[0;36m4\n\u001b[1;32m      <a href='vscode-notebook-cell:/home/jomk/Documents/Joao/IA/audio-emotion-classifier/opa.ipynb#W3sZmlsZQ%3D%3D?line=0'>1</a>\u001b[0m root_directory \u001b[39m=\u001b[39m \u001b[39m\"\u001b[39m\u001b[39m./dataset\u001b[39m\u001b[39m\"\u001b[39m\n\u001b[1;32m      <a href='vscode-notebook-cell:/home/jomk/Documents/Joao/IA/audio-emotion-classifier/opa.ipynb#W3sZmlsZQ%3D%3D?line=2'>3</a>\u001b[0m \u001b[39m# Carregando dados\u001b[39;00m\n\u001b[0;32m----> <a href='vscode-notebook-cell:/home/jomk/Documents/Joao/IA/audio-emotion-classifier/opa.ipynb#W3sZmlsZQ%3D%3D?line=3'>4</a>\u001b[0m features, labels \u001b[39m=\u001b[39m load_data(root_directory)\n\u001b[1;32m      <a href='vscode-notebook-cell:/home/jomk/Documents/Joao/IA/audio-emotion-classifier/opa.ipynb#W3sZmlsZQ%3D%3D?line=5'>6</a>\u001b[0m \u001b[39m# Dividindo os dados em conjunto de treinamento e teste\u001b[39;00m\n\u001b[1;32m      <a href='vscode-notebook-cell:/home/jomk/Documents/Joao/IA/audio-emotion-classifier/opa.ipynb#W3sZmlsZQ%3D%3D?line=6'>7</a>\u001b[0m X_train, X_test, y_train, y_test \u001b[39m=\u001b[39m train_test_split(features, labels, test_size\u001b[39m=\u001b[39m\u001b[39m0.2\u001b[39m, random_state\u001b[39m=\u001b[39m\u001b[39m42\u001b[39m)\n",
      "\u001b[1;32m/home/jomk/Documents/Joao/IA/audio-emotion-classifier/opa.ipynb Cell 4\u001b[0m line \u001b[0;36m1\n\u001b[1;32m     <a href='vscode-notebook-cell:/home/jomk/Documents/Joao/IA/audio-emotion-classifier/opa.ipynb#W3sZmlsZQ%3D%3D?line=12'>13</a>\u001b[0m \u001b[39mif\u001b[39;00m filename\u001b[39m.\u001b[39mendswith(\u001b[39m\"\u001b[39m\u001b[39m.wav\u001b[39m\u001b[39m\"\u001b[39m):\n\u001b[1;32m     <a href='vscode-notebook-cell:/home/jomk/Documents/Joao/IA/audio-emotion-classifier/opa.ipynb#W3sZmlsZQ%3D%3D?line=13'>14</a>\u001b[0m     audio_path \u001b[39m=\u001b[39m os\u001b[39m.\u001b[39mpath\u001b[39m.\u001b[39mjoin(emotion_dir, filename)\n\u001b[0;32m---> <a href='vscode-notebook-cell:/home/jomk/Documents/Joao/IA/audio-emotion-classifier/opa.ipynb#W3sZmlsZQ%3D%3D?line=14'>15</a>\u001b[0m     feature \u001b[39m=\u001b[39m extract_features(audio_path)\n\u001b[1;32m     <a href='vscode-notebook-cell:/home/jomk/Documents/Joao/IA/audio-emotion-classifier/opa.ipynb#W3sZmlsZQ%3D%3D?line=15'>16</a>\u001b[0m     features\u001b[39m.\u001b[39mappend(feature)\n\u001b[1;32m     <a href='vscode-notebook-cell:/home/jomk/Documents/Joao/IA/audio-emotion-classifier/opa.ipynb#W3sZmlsZQ%3D%3D?line=16'>17</a>\u001b[0m     labels\u001b[39m.\u001b[39mappend(emotion)\n",
      "\u001b[1;32m/home/jomk/Documents/Joao/IA/audio-emotion-classifier/opa.ipynb Cell 4\u001b[0m line \u001b[0;36m1\n\u001b[1;32m      <a href='vscode-notebook-cell:/home/jomk/Documents/Joao/IA/audio-emotion-classifier/opa.ipynb#W3sZmlsZQ%3D%3D?line=7'>8</a>\u001b[0m \u001b[39m#contrast = np.mean(librosa.feature.spectral_contrast(S=stft, sr=sr,fmin=0.5*sr* 2**(-6)).T,axis=0)\u001b[39;00m\n\u001b[1;32m      <a href='vscode-notebook-cell:/home/jomk/Documents/Joao/IA/audio-emotion-classifier/opa.ipynb#W3sZmlsZQ%3D%3D?line=8'>9</a>\u001b[0m \u001b[39m#tonnetz = np.mean(librosa.feature.tonnetz(y=librosa.effects.harmonic(y),sr=sr*2).T,axis=0)\u001b[39;00m\n\u001b[1;32m     <a href='vscode-notebook-cell:/home/jomk/Documents/Joao/IA/audio-emotion-classifier/opa.ipynb#W3sZmlsZQ%3D%3D?line=9'>10</a>\u001b[0m features \u001b[39m=\u001b[39m np\u001b[39m.\u001b[39mhstack([mfccs, chroma, mel])\n\u001b[0;32m---> <a href='vscode-notebook-cell:/home/jomk/Documents/Joao/IA/audio-emotion-classifier/opa.ipynb#W3sZmlsZQ%3D%3D?line=11'>12</a>\u001b[0m \u001b[39mreturn\u001b[39;00m tonnetz\n",
      "\u001b[0;31mNameError\u001b[0m: name 'tonnetz' is not defined"
     ]
    }
   ],
   "source": [
    "root_directory = \"./dataset\"\n",
    "\n",
    "# Carregando dados\n",
    "features, labels = load_data(root_directory)\n",
    "\n",
    "# Dividindo os dados em conjunto de treinamento e teste\n",
    "X_train, X_test, y_train, y_test = train_test_split(features, labels, test_size=0.2, random_state=42)\n",
    "\n",
    "# Padronizando os dados\n",
    "scaler = StandardScaler()\n",
    "X_train = scaler.fit_transform(X_train)\n",
    "X_test = scaler.transform(X_test)"
   ]
  },
  {
   "cell_type": "code",
   "execution_count": null,
   "metadata": {},
   "outputs": [],
   "source": [
    "# Treinando o modelo SVM\n",
    "model = SVC(kernel='linear', C=1)\n",
    "model.fit(X_train, y_train)\n",
    "\n",
    "# Inicializando e treinando o modelo RandomForest\n",
    "model_rf = RandomForestClassifier(n_estimators=100, random_state=42)\n",
    "model_rf.fit(X_train, y_train)\n",
    "\n",
    "# Inicializando e treinando o modelo k-Nearest Neighbors (KNN)\n",
    "model_knn = KNeighborsClassifier(n_neighbors=5)\n",
    "model_knn.fit(X_train, y_train)\n",
    "\n",
    "# Inicializando e treinando o modelo MLP\n",
    "model_mlp = MLPClassifier(hidden_layer_sizes=(100,), max_iter=1000, random_state=42)\n",
    "model_mlp.fit(X_train, y_train)"
   ]
  },
  {
   "cell_type": "code",
   "execution_count": null,
   "metadata": {},
   "outputs": [],
   "source": [
    "# Fazendo previsões\n",
    "predictions = model.predict(X_test)\n",
    "\n",
    "predictions_rf = model_rf.predict(X_test)\n",
    "\n",
    "predictions_knn = model_knn.predict(X_test)\n",
    "\n",
    "predictions_mlp = model_mlp.predict(X_test)\n",
    "\n",
    "# Avaliando o desempenho\n",
    "accuracy = accuracy_score(y_test, predictions)\n",
    "report = classification_report(y_test, predictions)\n",
    "\n",
    "print(f\"Acurácia SVM: {accuracy}\")\n",
    "print(\"Relatório de Classificação SVM:\")\n",
    "print(report)\n",
    "\n",
    "accuracy_rf = accuracy_score(y_test, predictions_rf)\n",
    "report_rf = classification_report(y_test, predictions_rf)\n",
    "\n",
    "print(f\"Acurácia RF: {accuracy_rf}\")\n",
    "print(\"Relatório de Classificação RF:\")\n",
    "print(report_rf)\n",
    "\n",
    "accuracy_knn = accuracy_score(y_test, predictions_knn)\n",
    "report_knn = classification_report(y_test, predictions_knn)\n",
    "\n",
    "print(f\"Acurácia KNN: {accuracy_knn}\")\n",
    "print(\"Relatório de Classificação KNN:\")\n",
    "print(report_knn)\n",
    "\n",
    "accuracy_mlp = accuracy_score(y_test, predictions_mlp)\n",
    "report_mlp = classification_report(y_test, predictions_mlp)\n",
    "\n",
    "print(f\"Acurácia MLP: {accuracy_mlp}\")\n",
    "print(\"Relatório de Classificação MLP:\")\n",
    "print(report_mlp)\n"
   ]
  }
 ],
 "metadata": {
  "kernelspec": {
   "display_name": ".venv",
   "language": "python",
   "name": "python3"
  },
  "language_info": {
   "codemirror_mode": {
    "name": "ipython",
    "version": 3
   },
   "file_extension": ".py",
   "mimetype": "text/x-python",
   "name": "python",
   "nbconvert_exporter": "python",
   "pygments_lexer": "ipython3",
   "version": "3.11.4"
  }
 },
 "nbformat": 4,
 "nbformat_minor": 2
}
